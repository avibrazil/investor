{
 "cells": [
  {
   "cell_type": "markdown",
   "id": "e133912d-9972-457f-9f07-b710e8bf3c0e",
   "metadata": {},
   "source": [
    "# Ivestment Porfolio Management\n",
    "\n",
    "## Load investments and print short report"
   ]
  },
  {
   "cell_type": "code",
   "execution_count": null,
   "id": "b765ee32-8ebe-4dd9-a4f3-2f3fbcb4a35c",
   "metadata": {
    "tags": []
   },
   "outputs": [],
   "source": [
    "import sys\n",
    "import os\n",
    "\n",
    "# Give priority to local packages (not needed in case Robson was installed by pip)\n",
    "sys.path.insert(0, os.path.abspath(os.path.join(os.path.dirname(''), '..')))\n",
    "\n",
    "import investor"
   ]
  },
  {
   "cell_type": "code",
   "execution_count": null,
   "id": "70b199e5-7db8-4710-a1b0-e339a8d9db0d",
   "metadata": {
    "tags": []
   },
   "outputs": [],
   "source": [
    "me=investor.Investor(\"../investor_ui_config.yaml\")"
   ]
  },
  {
   "cell_type": "code",
   "execution_count": null,
   "id": "6de306e4-e1b5-4a88-848a-3b32224505e6",
   "metadata": {
    "tags": []
   },
   "outputs": [],
   "source": [
    "print(me)"
   ]
  },
  {
   "cell_type": "markdown",
   "id": "c2e14ca6-e730-4556-b48a-cd93a3de023e",
   "metadata": {},
   "source": [
    "## Get list of funds and instruments"
   ]
  },
  {
   "cell_type": "code",
   "execution_count": null,
   "id": "434a5ee3-cb2b-4b19-b0b4-8ea14985cb65",
   "metadata": {},
   "outputs": [],
   "source": [
    "me.portfolio[0].funds()"
   ]
  },
  {
   "cell_type": "markdown",
   "id": "428119f6-b1eb-4f20-8d3e-4a0bebee8171",
   "metadata": {},
   "source": [
    "## Get compound fund from a few instruments"
   ]
  },
  {
   "cell_type": "code",
   "execution_count": null,
   "id": "2bb9c8ff-ba18-42fe-9bcc-8e68baacf7e5",
   "metadata": {
    "tags": []
   },
   "outputs": [],
   "source": [
    "fund=me.portfolio[0].getFund(['XP','NordIV'],currencyExchange=me.exchange)\n",
    "fund"
   ]
  },
  {
   "cell_type": "markdown",
   "id": "2e0e0f5f-8d80-4e31-8728-82085fce6a97",
   "metadata": {},
   "source": [
    "## Compute periodic report\n",
    "### Month and Year"
   ]
  },
  {
   "cell_type": "code",
   "execution_count": null,
   "id": "ee758f66-9f90-4c38-a3df-fe1276a8736e",
   "metadata": {
    "tags": []
   },
   "outputs": [],
   "source": [
    "fund.report(benchmark=me.benchmarks[0])"
   ]
  },
  {
   "cell_type": "markdown",
   "id": "633ac1a3-4d52-46b8-895a-d54649ee87c0",
   "metadata": {},
   "source": [
    "### Quarter & Year"
   ]
  },
  {
   "cell_type": "code",
   "execution_count": null,
   "id": "1791008f-f744-48b8-a414-da94b4e469ed",
   "metadata": {},
   "outputs": [],
   "source": [
    "fund.report('Q')"
   ]
  },
  {
   "cell_type": "markdown",
   "id": "0da030e5-c4eb-4c3c-9db4-d9d7079068bd",
   "metadata": {},
   "source": [
    "### Week & 4 Weeks"
   ]
  },
  {
   "cell_type": "code",
   "execution_count": null,
   "id": "fa6c298a-53c8-4417-9f44-20c21fdb6442",
   "metadata": {
    "tags": []
   },
   "outputs": [],
   "source": [
    "fund=me.portfolio[0].getFund(['ShiguBot Binance','ShiguBot MB'],currencyExchange=me.exchange)\n",
    "fund.report('W',benchmark=me.benchmarks[0])"
   ]
  },
  {
   "cell_type": "code",
   "execution_count": null,
   "id": "169c84cb-6137-4296-854c-a89809c1ecd9",
   "metadata": {},
   "outputs": [],
   "source": []
  }
 ],
 "metadata": {
  "kernelspec": {
   "display_name": "Python 3 (ipykernel)",
   "language": "python",
   "name": "python3"
  },
  "language_info": {
   "codemirror_mode": {
    "name": "ipython",
    "version": 3
   },
   "file_extension": ".py",
   "mimetype": "text/x-python",
   "name": "python",
   "nbconvert_exporter": "python",
   "pygments_lexer": "ipython3",
   "version": "3.9.9"
  }
 },
 "nbformat": 4,
 "nbformat_minor": 5
}
