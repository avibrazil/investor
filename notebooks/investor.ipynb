{
 "cells": [
  {
   "cell_type": "markdown",
   "id": "e133912d-9972-457f-9f07-b710e8bf3c0e",
   "metadata": {},
   "source": [
    "# Ivestment Porfolio Management\n",
    "\n",
    "## Load investments and print short report"
   ]
  },
  {
   "cell_type": "code",
   "execution_count": null,
   "id": "b765ee32-8ebe-4dd9-a4f3-2f3fbcb4a35c",
   "metadata": {
    "tags": []
   },
   "outputs": [],
   "source": [
    "import sys\n",
    "import os\n",
    "import logging\n",
    "\n",
    "logging.basicConfig()\n",
    "logging.getLogger().setLevel(logging.DEBUG)\n",
    "\n",
    "# Give priority to local packages (not needed in case Robson was installed by pip)\n",
    "sys.path.insert(0, os.path.abspath(os.path.join(os.path.dirname(''), '..')))\n",
    "\n",
    "import investor"
   ]
  },
  {
   "cell_type": "code",
   "execution_count": null,
   "id": "70b199e5-7db8-4710-a1b0-e339a8d9db0d",
   "metadata": {
    "tags": []
   },
   "outputs": [],
   "source": [
    "# Use data from cache\n",
    "me=investor.Investor(\"../investor_ui_config.yaml\")\n",
    "\n",
    "# Pass a refreshMap to force refresh data from the Internet\n",
    "# me=investor.Investor(\n",
    "#     \"../investor_ui_config.yaml\",\n",
    "#     refreshMap=dict(zip(investor.Investor.domains,len(investor.Investor.domains)*[True]))\n",
    "# )"
   ]
  },
  {
   "cell_type": "code",
   "execution_count": null,
   "id": "ee8444cd-072d-484d-8021-2c509a7f2f15",
   "metadata": {
    "tags": []
   },
   "outputs": [],
   "source": [
    "me.config"
   ]
  },
  {
   "cell_type": "code",
   "execution_count": null,
   "id": "6de306e4-e1b5-4a88-848a-3b32224505e6",
   "metadata": {
    "tags": []
   },
   "outputs": [],
   "source": [
    "print(me)"
   ]
  },
  {
   "cell_type": "markdown",
   "id": "c2e14ca6-e730-4556-b48a-cd93a3de023e",
   "metadata": {
    "tags": []
   },
   "source": [
    "## Get list of investment instruments and currencies"
   ]
  },
  {
   "cell_type": "code",
   "execution_count": null,
   "id": "434a5ee3-cb2b-4b19-b0b4-8ea14985cb65",
   "metadata": {
    "tags": []
   },
   "outputs": [],
   "source": [
    "me.portfolio[0]['obj'].funds()"
   ]
  },
  {
   "cell_type": "markdown",
   "id": "428119f6-b1eb-4f20-8d3e-4a0bebee8171",
   "metadata": {},
   "source": [
    "## Get compound fund from a few instruments"
   ]
  },
  {
   "cell_type": "code",
   "execution_count": null,
   "id": "2c820e65-dcfd-484f-beba-596668586584",
   "metadata": {
    "tags": []
   },
   "outputs": [],
   "source": [
    "me.exchange.currency='USD'"
   ]
  },
  {
   "cell_type": "code",
   "execution_count": null,
   "id": "2bb9c8ff-ba18-42fe-9bcc-8e68baacf7e5",
   "metadata": {
    "tags": []
   },
   "outputs": [],
   "source": [
    "fund=me.portfolio[0]['obj'].getFund(['TraderBot KuCoin'],currencyExchange=me.exchange)\n",
    "fund"
   ]
  },
  {
   "cell_type": "markdown",
   "id": "2e0e0f5f-8d80-4e31-8728-82085fce6a97",
   "metadata": {
    "tags": []
   },
   "source": [
    "## Compute periodic report\n",
    "\n",
    "Pass a list to `kpi` parameter to show only specific KPIs. Avaialble are:\n",
    "\n",
    "**Source of all information**\n",
    "* `investor.KPI.BALANCE`\\\n",
    "plain balance\n",
    "* `investor.KPI.MOVEMENTS`\\\n",
    "money added and removed from fund on period\n",
    "\n",
    "**Cumulative movements**\n",
    "* `investor.KPI.SAVINGS`\\\n",
    "cumulative money added and removed from fund\n",
    "\n",
    "**Rate of accumulated gains**\n",
    "* `investor.KPI.BALANCE_OVER_SAVINGS`\\\n",
    "balance ➗ savings\n",
    "\n",
    "**Pure gain, on the period or accumulated**\n",
    "* `investor.KPI.GAINS`\\\n",
    "cumulative gains\n",
    "* `investor.KPI.PERIOD_GAIN`\\\n",
    "gain on each period\n",
    "\n",
    "**Normalization**\n",
    "* `investor.KPI.SHARES`\\\n",
    "amount of shares\n",
    "* `investor.KPI.SHARE_VALUE`\\\n",
    "value of a share\n",
    "\n",
    "**Performance**\n",
    "* `investor.KPI.RATE_RETURN`\\\n",
    "percentage change of share value\n",
    "\n",
    "**KPIs related to external sources**\n",
    "* `investor.KPI.BENCHMARK`\\\n",
    "raw value of the benchmark\n",
    "* `investor.KPI.BENCHMARK_RATE_RETURN`\\\n",
    "variation of benchmark in relation to the last period\n",
    "* `investor.KPI.BENCHMARK_EXCESS_RETURN`\\\n",
    "relation between RATE_RETURN and BENCHMARK_RATE_RETURN, on each period\n",
    "\n",
    "### Month and Year"
   ]
  },
  {
   "cell_type": "code",
   "execution_count": null,
   "id": "ee758f66-9f90-4c38-a3df-fe1276a8736e",
   "metadata": {
    "tags": []
   },
   "outputs": [],
   "source": [
    "fund.report(benchmark=me.benchmarks[8]['obj'])"
   ]
  },
  {
   "cell_type": "markdown",
   "id": "633ac1a3-4d52-46b8-895a-d54649ee87c0",
   "metadata": {},
   "source": [
    "### Quarter & Year"
   ]
  },
  {
   "cell_type": "code",
   "execution_count": null,
   "id": "1791008f-f744-48b8-a414-da94b4e469ed",
   "metadata": {
    "tags": []
   },
   "outputs": [],
   "source": [
    "fund.report('Q',benchmark=me.benchmarks[9]['obj'])"
   ]
  },
  {
   "cell_type": "markdown",
   "id": "76f561cb-db90-41ce-b553-1601155db956",
   "metadata": {},
   "source": [
    "### Daily"
   ]
  },
  {
   "cell_type": "code",
   "execution_count": null,
   "id": "02c7e91e-4fae-4777-8afa-612b54052202",
   "metadata": {
    "tags": []
   },
   "outputs": [],
   "source": [
    "fund.report('D',benchmark=me.benchmarks[9]['obj'])"
   ]
  },
  {
   "cell_type": "markdown",
   "id": "80f36339-f455-4275-aa55-6b1e36494dee",
   "metadata": {
    "execution": {
     "iopub.execute_input": "2022-07-08T15:46:45.700130Z",
     "iopub.status.busy": "2022-07-08T15:46:45.698906Z",
     "iopub.status.idle": "2022-07-08T15:46:45.715087Z",
     "shell.execute_reply": "2022-07-08T15:46:45.714134Z",
     "shell.execute_reply.started": "2022-07-08T15:46:45.700057Z"
    },
    "tags": []
   },
   "source": [
    "#### Plain daily gains"
   ]
  },
  {
   "cell_type": "code",
   "execution_count": null,
   "id": "dc0e82db-b343-49e1-8c51-774194f9284d",
   "metadata": {
    "tags": []
   },
   "outputs": [],
   "source": [
    "fund.report('D',benchmark=me.benchmarks[9]['obj'],kpi=[investor.KPI.PERIOD_GAIN,investor.KPI.GAINS,investor.KPI.RATE_RETURN,investor.KPI.BALANCE_OVER_SAVINGS])"
   ]
  },
  {
   "cell_type": "code",
   "execution_count": null,
   "id": "7819ebf9-267b-43c8-8487-606c7b5559de",
   "metadata": {
    "tags": []
   },
   "outputs": [],
   "source": [
    "fund.periodicReport('M',benchmark=me.benchmarks[8]['obj'])"
   ]
  },
  {
   "cell_type": "markdown",
   "id": "0da030e5-c4eb-4c3c-9db4-d9d7079068bd",
   "metadata": {},
   "source": [
    "### Week & 4 Weeks\n",
    "#### Performance report"
   ]
  },
  {
   "cell_type": "code",
   "execution_count": null,
   "id": "fa6c298a-53c8-4417-9f44-20c21fdb6442",
   "metadata": {
    "tags": []
   },
   "outputs": [],
   "source": [
    "# fund=me.portfolio[0]['obj'].getFund(['ShiguBot Binance','ShiguBot MB'],currencyExchange=me.exchange)\n",
    "fund=me.portfolio[0]['obj'].getFund(['TraderBot KuCoin'],currencyExchange=me.exchange)\n",
    "\n",
    "fund.report(\n",
    "    period='W',\n",
    "    benchmark=me.benchmarks[8]['obj'],\n",
    "    kpi=[\n",
    "        investor.KPI.RATE_RETURN,\n",
    "        investor.KPI.BENCHMARK_RATE_RETURN,\n",
    "        investor.KPI.BENCHMARK_EXCESS_RETURN,\n",
    "        investor.KPI.PERIOD_GAIN\n",
    "    ],\n",
    ")"
   ]
  },
  {
   "cell_type": "markdown",
   "id": "ebb2b1bb-a639-4bde-97d3-aab570834643",
   "metadata": {},
   "source": [
    "#### Wealth Evolution"
   ]
  },
  {
   "cell_type": "code",
   "execution_count": null,
   "id": "1fa21a47-d709-41ac-9aa7-b29d56adad82",
   "metadata": {
    "tags": []
   },
   "outputs": [],
   "source": [
    "fund.report(\n",
    "    period='W',\n",
    "    benchmark=me.benchmarks[9]['obj'],\n",
    "    kpi=[\n",
    "        investor.KPI.BALANCE,\n",
    "        investor.KPI.BALANCE_OVER_SAVINGS,\n",
    "        investor.KPI.GAINS,\n",
    "        investor.KPI.SAVINGS,\n",
    "        investor.KPI.MOVEMENTS\n",
    "    ],\n",
    ")"
   ]
  },
  {
   "cell_type": "markdown",
   "id": "40b792aa-6f40-4788-b36c-054299f77ac9",
   "metadata": {
    "execution": {
     "iopub.execute_input": "2022-07-08T15:46:45.700130Z",
     "iopub.status.busy": "2022-07-08T15:46:45.698906Z",
     "iopub.status.idle": "2022-07-08T15:46:45.715087Z",
     "shell.execute_reply": "2022-07-08T15:46:45.714134Z",
     "shell.execute_reply.started": "2022-07-08T15:46:45.700057Z"
    }
   },
   "source": [
    "#### Plain weekly gains"
   ]
  },
  {
   "cell_type": "code",
   "execution_count": null,
   "id": "e5453b93-7c52-4a6d-a003-daddbe45ad4a",
   "metadata": {
    "tags": []
   },
   "outputs": [],
   "source": [
    "fund.report('W',benchmark=me.benchmarks[9]['obj'],kpi=[investor.KPI.PERIOD_GAIN])"
   ]
  }
 ],
 "metadata": {
  "instance_type": "ml.t3.medium",
  "kernelspec": {
   "display_name": "Python 3 (ipykernel)",
   "language": "python",
   "name": "python3"
  },
  "language_info": {
   "codemirror_mode": {
    "name": "ipython",
    "version": 3
   },
   "file_extension": ".py",
   "mimetype": "text/x-python",
   "name": "python",
   "nbconvert_exporter": "python",
   "pygments_lexer": "ipython3",
   "version": "3.9.9"
  }
 },
 "nbformat": 4,
 "nbformat_minor": 5
}
