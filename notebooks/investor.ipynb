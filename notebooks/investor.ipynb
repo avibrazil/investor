{
 "cells": [
  {
   "cell_type": "markdown",
   "id": "e133912d-9972-457f-9f07-b710e8bf3c0e",
   "metadata": {},
   "source": [
    "# Ivestment Porfolio Management\n",
    "\n",
    "## Load investments and print short report"
   ]
  },
  {
   "cell_type": "code",
   "execution_count": null,
   "id": "b765ee32-8ebe-4dd9-a4f3-2f3fbcb4a35c",
   "metadata": {
    "tags": []
   },
   "outputs": [],
   "source": [
    "import sys\n",
    "import os\n",
    "import logging\n",
    "\n",
    "logging.basicConfig()\n",
    "logging.getLogger().setLevel(logging.WARNING)\n",
    "\n",
    "# Give priority to local packages (not needed in case Robson was installed by pip)\n",
    "sys.path.insert(0, os.path.abspath(os.path.join(os.path.dirname(''), '..')))\n",
    "\n",
    "import investor"
   ]
  },
  {
   "cell_type": "code",
   "execution_count": null,
   "id": "70b199e5-7db8-4710-a1b0-e339a8d9db0d",
   "metadata": {
    "tags": []
   },
   "outputs": [],
   "source": [
    "# Use data from cache\n",
    "me=investor.Investor(\"../investor_ui_config.yaml\")\n",
    "\n",
    "# Pass a refreshMap to force refresh data from the Internet\n",
    "# me=investor.Investor(\n",
    "#     \"../investor_ui_config.yaml\",\n",
    "#     refreshMap=dict(zip(investor.Investor.domains,len(investor.Investor.domains)*[True]))\n",
    "# )"
   ]
  },
  {
   "cell_type": "code",
   "execution_count": null,
   "id": "ee8444cd-072d-484d-8021-2c509a7f2f15",
   "metadata": {
    "tags": []
   },
   "outputs": [],
   "source": [
    "me.config"
   ]
  },
  {
   "cell_type": "code",
   "execution_count": null,
   "id": "6de306e4-e1b5-4a88-848a-3b32224505e6",
   "metadata": {
    "tags": []
   },
   "outputs": [],
   "source": [
    "print(me)"
   ]
  },
  {
   "cell_type": "markdown",
   "id": "c2e14ca6-e730-4556-b48a-cd93a3de023e",
   "metadata": {
    "tags": []
   },
   "source": [
    "## Get list of investment instruments and currencies"
   ]
  },
  {
   "cell_type": "code",
   "execution_count": null,
   "id": "434a5ee3-cb2b-4b19-b0b4-8ea14985cb65",
   "metadata": {
    "tags": []
   },
   "outputs": [],
   "source": [
    "me.portfolio[0]['obj'].funds()"
   ]
  },
  {
   "cell_type": "markdown",
   "id": "428119f6-b1eb-4f20-8d3e-4a0bebee8171",
   "metadata": {},
   "source": [
    "## Get compound fund from a few instruments"
   ]
  },
  {
   "cell_type": "code",
   "execution_count": null,
   "id": "2c820e65-dcfd-484f-beba-596668586584",
   "metadata": {
    "tags": []
   },
   "outputs": [],
   "source": [
    "me.exchange.currency='USD'"
   ]
  },
  {
   "cell_type": "code",
   "execution_count": null,
   "id": "2bb9c8ff-ba18-42fe-9bcc-8e68baacf7e5",
   "metadata": {
    "tags": []
   },
   "outputs": [],
   "source": [
    "fund=me.portfolio[0]['obj'].getFund(['TraderBot KuCoin'],currencyExchange=me.exchange)\n",
    "fund"
   ]
  },
  {
   "cell_type": "markdown",
   "id": "2e0e0f5f-8d80-4e31-8728-82085fce6a97",
   "metadata": {
    "tags": []
   },
   "source": [
    "## Compute periodic report\n",
    "\n",
    "Pass a list to `kpi` parameter to show only specific KPIs. Avaialble are:\n",
    "\n",
    "**Source of all information**\n",
    "* `investor.KPI.BALANCE`\\\n",
    "plain balance\n",
    "* `investor.KPI.MOVEMENTS`\\\n",
    "money added and removed from fund on period\n",
    "\n",
    "**Cumulative movements**\n",
    "* `investor.KPI.SAVINGS`\\\n",
    "cumulative money added and removed from fund\n",
    "\n",
    "**Rate of accumulated gains**\n",
    "* `investor.KPI.BALANCE_OVER_SAVINGS`\\\n",
    "balance ➗ savings\n",
    "\n",
    "**Pure gain, on the period or accumulated**\n",
    "* `investor.KPI.GAINS`\\\n",
    "cumulative gains\n",
    "* `investor.KPI.PERIOD_GAIN`\\\n",
    "gain on each period\n",
    "\n",
    "**Normalization**\n",
    "* `investor.KPI.SHARES`\\\n",
    "amount of shares\n",
    "* `investor.KPI.SHARE_VALUE`\\\n",
    "value of a share\n",
    "\n",
    "**Performance**\n",
    "* `investor.KPI.RATE_RETURN`\\\n",
    "percentage change of share value\n",
    "\n",
    "**KPIs related to external sources**\n",
    "* `investor.KPI.BENCHMARK`\\\n",
    "raw value of the benchmark\n",
    "* `investor.KPI.BENCHMARK_RATE_RETURN`\\\n",
    "variation of benchmark in relation to the last period\n",
    "* `investor.KPI.BENCHMARK_EXCESS_RETURN`\\\n",
    "relation between RATE_RETURN and BENCHMARK_RATE_RETURN, on each period\n",
    "\n",
    "### Month and Year"
   ]
  },
  {
   "cell_type": "code",
   "execution_count": null,
   "id": "ee758f66-9f90-4c38-a3df-fe1276a8736e",
   "metadata": {
    "tags": []
   },
   "outputs": [],
   "source": [
    "fund.report(benchmark=me.benchmarks[8]['obj'])"
   ]
  },
  {
   "cell_type": "markdown",
   "id": "633ac1a3-4d52-46b8-895a-d54649ee87c0",
   "metadata": {},
   "source": [
    "### Quarter & Year"
   ]
  },
  {
   "cell_type": "code",
   "execution_count": null,
   "id": "1791008f-f744-48b8-a414-da94b4e469ed",
   "metadata": {
    "tags": []
   },
   "outputs": [],
   "source": [
    "fund.report('Q',benchmark=me.benchmarks[9]['obj'])"
   ]
  },
  {
   "cell_type": "markdown",
   "id": "76f561cb-db90-41ce-b553-1601155db956",
   "metadata": {},
   "source": [
    "### Daily"
   ]
  },
  {
   "cell_type": "code",
   "execution_count": null,
   "id": "02c7e91e-4fae-4777-8afa-612b54052202",
   "metadata": {
    "tags": []
   },
   "outputs": [],
   "source": [
    "fund.report('D',benchmark=me.benchmarks[9]['obj'])"
   ]
  },
  {
   "cell_type": "markdown",
   "id": "80f36339-f455-4275-aa55-6b1e36494dee",
   "metadata": {
    "execution": {
     "iopub.execute_input": "2022-07-08T15:46:45.700130Z",
     "iopub.status.busy": "2022-07-08T15:46:45.698906Z",
     "iopub.status.idle": "2022-07-08T15:46:45.715087Z",
     "shell.execute_reply": "2022-07-08T15:46:45.714134Z",
     "shell.execute_reply.started": "2022-07-08T15:46:45.700057Z"
    },
    "tags": []
   },
   "source": [
    "#### Plain daily gains"
   ]
  },
  {
   "cell_type": "code",
   "execution_count": null,
   "id": "dc0e82db-b343-49e1-8c51-774194f9284d",
   "metadata": {
    "tags": []
   },
   "outputs": [],
   "source": [
    "fund.report('D',benchmark=me.benchmarks[9]['obj'],kpi=[investor.KPI.PERIOD_GAIN,investor.KPI.GAINS,investor.KPI.RATE_RETURN])"
   ]
  },
  {
   "cell_type": "code",
   "execution_count": null,
   "id": "7819ebf9-267b-43c8-8487-606c7b5559de",
   "metadata": {
    "tags": []
   },
   "outputs": [],
   "source": [
    "fund.periodicReport('M',benchmark=me.benchmarks[8]['obj'])"
   ]
  },
  {
   "cell_type": "markdown",
   "id": "a779a1b4-3c74-480a-bbee-8b5684a5f152",
   "metadata": {},
   "source": [
    "------"
   ]
  },
  {
   "cell_type": "code",
   "execution_count": null,
   "id": "d2229716-6a10-4608-9612-715bdf6fcba5",
   "metadata": {
    "tags": []
   },
   "outputs": [],
   "source": [
    "period=fund.periodicReport('D')\n",
    "period"
   ]
  },
  {
   "cell_type": "code",
   "execution_count": null,
   "id": "d202deb5-2399-4016-9634-1eebe3d56a68",
   "metadata": {
    "tags": []
   },
   "outputs": [],
   "source": [
    "macroPeriod=fund.periodicReport('W')\n",
    "macroPeriod"
   ]
  },
  {
   "cell_type": "code",
   "execution_count": null,
   "id": "e400e3dd-05d0-4e21-88d6-2f57e6599d74",
   "metadata": {
    "tags": []
   },
   "outputs": [],
   "source": [
    "macroPeriod.index"
   ]
  },
  {
   "cell_type": "code",
   "execution_count": null,
   "id": "0cb7e7f0-067d-4a88-8d79-1c44e1cb9435",
   "metadata": {
    "tags": []
   },
   "outputs": [],
   "source": [
    "import pandas as pd\n",
    "\n",
    "p=dict(\n",
    "    period                     = 'D',\n",
    "    periodLabel                = 'day',\n",
    "    periodFormatter            = '%w·%a',\n",
    "\n",
    "    macroPeriod                = 'W',\n",
    "    macroPeriodLabel           = 'week',\n",
    "    macroPeriodFormatter       = '%Y-w%U'\n",
    ")\n",
    "\n",
    "i=1\n",
    "\n",
    "if i==0:\n",
    "    line=period[:macroPeriod.index[i]]\n",
    "    nPeriods=period[:macroPeriod.index[i]].shape[0]\n",
    "else:\n",
    "    currentRange=(\n",
    "        (period.index > macroPeriod.index[i-1]) &\n",
    "        (period.index <= macroPeriod.index[i])\n",
    "    )\n",
    "    line=period[currentRange]\n",
    "    nPeriods=period[currentRange].shape[0]\n",
    "\n",
    "line=(\n",
    "    # Add a row label, as '2020' or '4·Thu'\n",
    "    pd.concat([line], axis=1, keys=[macroPeriod.index[i]])\n",
    "\n",
    "    # Rename the title for labels so we can join latter\n",
    "    .rename_axis(['time','KPI'], axis='columns')\n",
    "\n",
    "    # Convert index from full DateTimeIndex to something that can be matched\n",
    "    # across macro-periods, as just '08·Aug'\n",
    "    .assign(\n",
    "        **{\n",
    "            p['periodLabel']: (\n",
    "                line.index.strftime(p['periodFormatter'])\n",
    "                if 'periodFormatter' in p\n",
    "                else range(1,nPeriods+1,1)\n",
    "            ),\n",
    "            'firstindex': 'periods'\n",
    "        }\n",
    "    )\n",
    "    .set_index(['firstindex',p['periodLabel']])\n",
    ")\n",
    "    \n",
    "# # Add a row label, as '2020'\n",
    "# line=pd.concat([line], axis=1, keys=[macroPeriod.index[i]])\n",
    "\n",
    "# # Rename the title for labels so we can join latter\n",
    "# line.rename_axis(['time','KPI'], axis='columns', inplace=True)\n",
    "\n",
    "# line=pd.concat([line], axis=0, keys=['periods'])\n",
    "\n",
    "line"
   ]
  },
  {
   "cell_type": "code",
   "execution_count": null,
   "id": "cab3e921-f2a3-4856-904f-031a085b2e53",
   "metadata": {},
   "outputs": [],
   "source": []
  },
  {
   "cell_type": "code",
   "execution_count": null,
   "id": "39071984-3e68-49cf-a726-7d4723e02092",
   "metadata": {
    "tags": []
   },
   "outputs": [],
   "source": [
    "p=dict(\n",
    "    period                     = 'D',\n",
    "    periodLabel                = 'day',\n",
    "    periodFormatter            = '%w·%a',\n",
    "\n",
    "    macroPeriod                = 'W',\n",
    "    macroPeriodLabel           = 'week',\n",
    "    macroPeriodFormatter       = '%Y-w%U'\n",
    ")\n",
    "\n",
    "import pandas as pd\n",
    "\n",
    "report=None\n",
    "\n",
    "# Break the periodic report in chunks equivalent to the summary report\n",
    "for i in range(len(macroPeriod.index)):\n",
    "\n",
    "    currentRange=None\n",
    "\n",
    "    if i==0:\n",
    "        line=period[:macroPeriod.index[i]]\n",
    "        nPeriods=period[:macroPeriod.index[i]].shape[0]\n",
    "    else:\n",
    "        currentRange=(\n",
    "            (period.index > macroPeriod.index[i-1]) &\n",
    "            (period.index <= macroPeriod.index[i])\n",
    "        )\n",
    "        line=period[currentRange]\n",
    "        nPeriods=period[currentRange].shape[0]\n",
    "\n",
    "    # Add a row label, as '2020'\n",
    "    line=pd.concat([line], axis=1, keys=[macroPeriod.index[i]])\n",
    "\n",
    "    # Rename the title for labels so we can join latter\n",
    "    line.rename_axis(['time','KPI'], axis='columns', inplace=True)\n",
    "\n",
    "    # Convert index from full DateTimeIndex to something that can be matched\n",
    "    # across macro-periods, as just '08·Aug'\n",
    "    if 'periodFormatter' in p:\n",
    "        line[p['periodLabel']]=line.index.strftime(p['periodFormatter'])\n",
    "    else:\n",
    "        line[p['periodLabel']]=range(1,nPeriods+1,1)\n",
    "    line.set_index(p['periodLabel'], inplace=True)\n",
    "    line=pd.concat([line], axis=0, keys=['periods'])\n",
    "\n",
    "    # Add to main report transposing it into a true row (we were columns until now)\n",
    "    if report is not None:\n",
    "        report=pd.concat([report,line.T], sort=True)\n",
    "    else:\n",
    "        report=line.T\n",
    "\n",
    "report"
   ]
  },
  {
   "cell_type": "markdown",
   "id": "3965ae12-46da-4dda-9765-fcdec27aa3e3",
   "metadata": {},
   "source": [
    "----"
   ]
  },
  {
   "cell_type": "markdown",
   "id": "0da030e5-c4eb-4c3c-9db4-d9d7079068bd",
   "metadata": {},
   "source": [
    "### Week & 4 Weeks\n",
    "#### Performance report"
   ]
  },
  {
   "cell_type": "code",
   "execution_count": null,
   "id": "fa6c298a-53c8-4417-9f44-20c21fdb6442",
   "metadata": {
    "tags": []
   },
   "outputs": [],
   "source": [
    "# fund=me.portfolio[0]['obj'].getFund(['ShiguBot Binance','ShiguBot MB'],currencyExchange=me.exchange)\n",
    "fund=me.portfolio[0]['obj'].getFund(['TraderBot KuCoin'],currencyExchange=me.exchange)\n",
    "\n",
    "fund.report(\n",
    "    period='W',\n",
    "    benchmark=me.benchmarks[8]['obj'],\n",
    "    kpi=[\n",
    "        investor.KPI.RATE_RETURN,\n",
    "        investor.KPI.BENCHMARK_RATE_RETURN,\n",
    "        investor.KPI.BENCHMARK_EXCESS_RETURN,\n",
    "        investor.KPI.PERIOD_GAIN\n",
    "    ],\n",
    ")"
   ]
  },
  {
   "cell_type": "markdown",
   "id": "ebb2b1bb-a639-4bde-97d3-aab570834643",
   "metadata": {},
   "source": [
    "#### Wealth Evolution"
   ]
  },
  {
   "cell_type": "code",
   "execution_count": null,
   "id": "1fa21a47-d709-41ac-9aa7-b29d56adad82",
   "metadata": {
    "tags": []
   },
   "outputs": [],
   "source": [
    "fund.report(\n",
    "    period='W',\n",
    "    benchmark=me.benchmarks[9]['obj'],\n",
    "    kpi=[\n",
    "        investor.KPI.BALANCE,\n",
    "        investor.KPI.BALANCE_OVER_SAVINGS,\n",
    "        investor.KPI.GAINS,\n",
    "        investor.KPI.SAVINGS,\n",
    "        investor.KPI.MOVEMENTS\n",
    "    ],\n",
    ")"
   ]
  },
  {
   "cell_type": "markdown",
   "id": "40b792aa-6f40-4788-b36c-054299f77ac9",
   "metadata": {
    "execution": {
     "iopub.execute_input": "2022-07-08T15:46:45.700130Z",
     "iopub.status.busy": "2022-07-08T15:46:45.698906Z",
     "iopub.status.idle": "2022-07-08T15:46:45.715087Z",
     "shell.execute_reply": "2022-07-08T15:46:45.714134Z",
     "shell.execute_reply.started": "2022-07-08T15:46:45.700057Z"
    }
   },
   "source": [
    "#### Plain weekly gains"
   ]
  },
  {
   "cell_type": "code",
   "execution_count": null,
   "id": "e5453b93-7c52-4a6d-a003-daddbe45ad4a",
   "metadata": {
    "tags": []
   },
   "outputs": [],
   "source": [
    "fund.report('W',benchmark=me.benchmarks[9]['obj'],kpi=[investor.KPI.PERIOD_GAIN])"
   ]
  },
  {
   "cell_type": "code",
   "execution_count": null,
   "id": "343bca19-74d7-44f5-821b-081e294f2a8a",
   "metadata": {},
   "outputs": [],
   "source": []
  }
 ],
 "metadata": {
  "instance_type": "ml.t3.medium",
  "kernelspec": {
   "display_name": "Python 3 (ipykernel)",
   "language": "python",
   "name": "python3"
  },
  "language_info": {
   "codemirror_mode": {
    "name": "ipython",
    "version": 3
   },
   "file_extension": ".py",
   "mimetype": "text/x-python",
   "name": "python",
   "nbconvert_exporter": "python",
   "pygments_lexer": "ipython3",
   "version": "3.9.9"
  }
 },
 "nbformat": 4,
 "nbformat_minor": 5
}
